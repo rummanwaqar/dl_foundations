{
 "cells": [
  {
   "cell_type": "markdown",
   "metadata": {},
   "source": [
    "# Linear regression from scratch\n",
    "\n",
    "Shows the math behind linear regression"
   ]
  },
  {
   "cell_type": "code",
   "execution_count": 1,
   "metadata": {
    "collapsed": true
   },
   "outputs": [],
   "source": [
    "import numpy as np"
   ]
  },
  {
   "cell_type": "code",
   "execution_count": 2,
   "metadata": {
    "collapsed": false
   },
   "outputs": [],
   "source": [
    "# collect our data\n",
    "points = np.genfromtxt('data.csv', delimiter=',')"
   ]
  },
  {
   "cell_type": "code",
   "execution_count": 3,
   "metadata": {
    "collapsed": true
   },
   "outputs": [],
   "source": [
    "# define our hyperparamters\n",
    "learning_rate = 0.0001 # how fast should our model converge?\n",
    "initial_b = 0\n",
    "initial_m = 0\n",
    "num_iterations = 1000"
   ]
  },
  {
   "cell_type": "code",
   "execution_count": 4,
   "metadata": {
    "collapsed": true
   },
   "outputs": [],
   "source": [
    "# compute error for line\n",
    "# we want to minimize this error\n",
    "def compute_error( b, m, points ):\n",
    "    error = 0\n",
    "    for i in range( len(points) ):\n",
    "        x = points[i, 0]\n",
    "        y = points[i, 1]\n",
    "        y_pred = m*x + b\n",
    "        error += (y - y_pred) ** 2     \n",
    "    return error / float(len(points))"
   ]
  },
  {
   "cell_type": "code",
   "execution_count": 5,
   "metadata": {
    "collapsed": true
   },
   "outputs": [],
   "source": [
    "# update b and m using gradient\n",
    "def step_gradient( b_current, m_current, points, learning_rate ):\n",
    "    # starting points for our gradient descent\n",
    "    b_gradient = 0\n",
    "    m_gradient = 0\n",
    "    n = len(points)\n",
    "    for i in range( n ):\n",
    "        x = points[i,0]\n",
    "        y = points[i,1]\n",
    "        # direction with respect to b and m by computing partial derivatives of our error function\n",
    "        b_gradient += -(2/n) * (y - ( m_current * x + b_current) )\n",
    "        m_gradient += -(2/n) * x * ( y - ( m_current * x + b_current ) )\n",
    "        \n",
    "    # #update b and m and using partial derivatives\n",
    "    new_b = b_current - (learning_rate * b_gradient)\n",
    "    new_m = m_current - (learning_rate * m_gradient)\n",
    "    \n",
    "    return (new_b, new_m)"
   ]
  },
  {
   "cell_type": "code",
   "execution_count": 6,
   "metadata": {
    "collapsed": true
   },
   "outputs": [],
   "source": [
    "# run gradient descent\n",
    "def gradient_descent_runner( points, initial_b, inital_m, learning_rate, num_iterations ):\n",
    "    b = initial_b\n",
    "    m = initial_m\n",
    "    # gradient descent\n",
    "    for i in range(num_iterations):\n",
    "        # update the b and m with more accurate b and m by performing this gradient step\n",
    "        b, m = step_gradient(b, m, points, learning_rate)\n",
    "    return [b,m]"
   ]
  },
  {
   "cell_type": "code",
   "execution_count": 7,
   "metadata": {
    "collapsed": false
   },
   "outputs": [
    {
     "name": "stdout",
     "output_type": "stream",
     "text": [
      "starting gradient descent at b = 0, m = 0, error = 5565.107834483211\n"
     ]
    }
   ],
   "source": [
    "# train our model\n",
    "print('starting gradient descent at b = {0}, m = {1}, error = {2}'\n",
    "      .format(initial_b, initial_m, compute_error(initial_b, initial_m, points)))"
   ]
  },
  {
   "cell_type": "code",
   "execution_count": 8,
   "metadata": {
    "collapsed": false
   },
   "outputs": [],
   "source": [
    "[b,m] = gradient_descent_runner( points, initial_b, initial_m, learning_rate, num_iterations)"
   ]
  },
  {
   "cell_type": "code",
   "execution_count": 9,
   "metadata": {
    "collapsed": false
   },
   "outputs": [
    {
     "name": "stdout",
     "output_type": "stream",
     "text": [
      "ending point at b = 0.08893651993741346, m = 1.4777440851894448, error = 112.61481011613473\n"
     ]
    }
   ],
   "source": [
    "print('ending point at b = {1}, m = {2}, error = {3}'\n",
    "      .format(num_iterations, b, m, compute_error(b, m, points)))"
   ]
  }
 ],
 "metadata": {
  "kernelspec": {
   "display_name": "Python [default]",
   "language": "python",
   "name": "python3"
  },
  "language_info": {
   "codemirror_mode": {
    "name": "ipython",
    "version": 3
   },
   "file_extension": ".py",
   "mimetype": "text/x-python",
   "name": "python",
   "nbconvert_exporter": "python",
   "pygments_lexer": "ipython3",
   "version": "3.5.2"
  }
 },
 "nbformat": 4,
 "nbformat_minor": 2
}
