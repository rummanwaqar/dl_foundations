{
 "cells": [
  {
   "cell_type": "markdown",
   "metadata": {},
   "source": [
    "# Siraj neutal network\n",
    "\n",
    "Writing a feedforward neural network from scratch"
   ]
  },
  {
   "cell_type": "code",
   "execution_count": 1,
   "metadata": {
    "collapsed": true
   },
   "outputs": [],
   "source": [
    "import numpy as np"
   ]
  },
  {
   "cell_type": "code",
   "execution_count": 2,
   "metadata": {
    "collapsed": true
   },
   "outputs": [],
   "source": [
    "class NeuralNetwork():\n",
    "    def __init__(self):\n",
    "        # #seend random number generator so it generates the same numbers everytime\n",
    "        np.random.seed(1)\n",
    "        \n",
    "        # we model a single neuron with 3 inputs and 1 output\n",
    "        # we assign random weights to a 3 x 1 matrix with values from -1 to 1 with mean 0\n",
    "        self.synaptic_weights = 2 * np.random.random((3,1)) - 1\n",
    "        \n",
    "    # sigmoid function (s shape curve) to normalize the weighted sum of inputs between 0 and 1\n",
    "    def __sigmoid(self,x):\n",
    "        return 1/(1 + np.exp(-x))\n",
    "    \n",
    "    # gradient of sigmoid curve\n",
    "    def __sigmoid_derivative(self, x):\n",
    "        return x * (1-x)\n",
    "    \n",
    "    def train(self, training_inputs, training_outputs, num_iterations):\n",
    "        for iteration in range(num_iterations):\n",
    "            # pass the training set through our neural network\n",
    "            output = self.predict(training_inputs)\n",
    "            # calculate the error\n",
    "            error = training_outputs - output\n",
    "            # multiply the error by the input and again by the gradient of the sigmoid curve\n",
    "            adjustment = np.dot(training_inputs.T, error * self.__sigmoid_derivative(output))\n",
    "            # adjust the weights\n",
    "            self.synaptic_weights += adjustment\n",
    "    \n",
    "    def predict( self, inputs ):\n",
    "        # pass inputs through our neural network (single neuron)\n",
    "        return self.__sigmoid( np.dot(inputs, self.synaptic_weights) )\n",
    "        "
   ]
  },
  {
   "cell_type": "code",
   "execution_count": 3,
   "metadata": {
    "collapsed": false
   },
   "outputs": [],
   "source": [
    "# initialize the single neuron neural network\n",
    "neural_network = NeuralNetwork()"
   ]
  },
  {
   "cell_type": "code",
   "execution_count": 4,
   "metadata": {
    "collapsed": false
   },
   "outputs": [
    {
     "name": "stdout",
     "output_type": "stream",
     "text": [
      "Random starting synaptic weights:\n",
      "[[-0.16595599]\n",
      " [ 0.44064899]\n",
      " [-0.99977125]]\n"
     ]
    }
   ],
   "source": [
    "print('Random starting synaptic weights:')\n",
    "print( neural_network.synaptic_weights)"
   ]
  },
  {
   "cell_type": "code",
   "execution_count": 5,
   "metadata": {
    "collapsed": false
   },
   "outputs": [],
   "source": [
    "# training\n",
    "training_set_inputs = np.array([[0,0,1], [1,1,1], [1,0,1], [0,1,1]])\n",
    "training_set_outputs = np.array([[0,1,1,0]]).T\n",
    "neural_network.train( training_set_inputs, training_set_outputs, 10000)"
   ]
  },
  {
   "cell_type": "code",
   "execution_count": 6,
   "metadata": {
    "collapsed": false
   },
   "outputs": [
    {
     "name": "stdout",
     "output_type": "stream",
     "text": [
      "New synaptic weights after training:\n",
      "[[ 9.67299303]\n",
      " [-0.2078435 ]\n",
      " [-4.62963669]]\n"
     ]
    }
   ],
   "source": [
    "print('New synaptic weights after training:')\n",
    "print(neural_network.synaptic_weights)"
   ]
  },
  {
   "cell_type": "code",
   "execution_count": 7,
   "metadata": {
    "collapsed": false
   },
   "outputs": [
    {
     "name": "stdout",
     "output_type": "stream",
     "text": [
      "predicting -> [1,0,0]\n",
      "[ 0.99993704]\n"
     ]
    }
   ],
   "source": [
    "# predict from new input\n",
    "print('predicting -> [1,0,0]')\n",
    "print( neural_network.predict(np.array([1,0,0])) )"
   ]
  }
 ],
 "metadata": {
  "kernelspec": {
   "display_name": "Python [default]",
   "language": "python",
   "name": "python3"
  },
  "language_info": {
   "codemirror_mode": {
    "name": "ipython",
    "version": 3
   },
   "file_extension": ".py",
   "mimetype": "text/x-python",
   "name": "python",
   "nbconvert_exporter": "python",
   "pygments_lexer": "ipython3",
   "version": "3.5.2"
  }
 },
 "nbformat": 4,
 "nbformat_minor": 2
}
